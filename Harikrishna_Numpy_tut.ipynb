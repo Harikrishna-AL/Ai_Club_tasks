{
  "nbformat": 4,
  "nbformat_minor": 0,
  "metadata": {
    "colab": {
      "name": "Numpy_tut.ipynb",
      "provenance": [],
      "collapsed_sections": []
    },
    "kernelspec": {
      "name": "python3",
      "display_name": "Python 3"
    },
    "language_info": {
      "name": "python"
    }
  },
  "cells": [
    {
      "cell_type": "code",
      "metadata": {
        "id": "IoILkB_F2zBK"
      },
      "source": [
        "import numpy as np"
      ],
      "execution_count": 2,
      "outputs": []
    },
    {
      "cell_type": "code",
      "metadata": {
        "id": "YrmmANLw23XY"
      },
      "source": [
        "a = np.array([[1,2,3,4,5,6,7],[8,9,10,11,12,13,14]])"
      ],
      "execution_count": null,
      "outputs": []
    },
    {
      "cell_type": "code",
      "metadata": {
        "colab": {
          "base_uri": "https://localhost:8080/"
        },
        "id": "kxNGRT9_3bXI",
        "outputId": "c0d422f0-c266-4920-b7b4-a4ac0c9a7abe"
      },
      "source": [
        "a[:,2] "
      ],
      "execution_count": null,
      "outputs": [
        {
          "output_type": "execute_result",
          "data": {
            "text/plain": [
              "array([ 3, 10])"
            ]
          },
          "metadata": {},
          "execution_count": 6
        }
      ]
    },
    {
      "cell_type": "code",
      "metadata": {
        "colab": {
          "base_uri": "https://localhost:8080/"
        },
        "id": "qJGkIEwT5RW4",
        "outputId": "37f296d1-6b1f-4d53-92b6-33a229ed4b7c"
      },
      "source": [
        "a = np.array([1,9,8,3])\n",
        "print(a)"
      ],
      "execution_count": null,
      "outputs": [
        {
          "output_type": "stream",
          "name": "stdout",
          "text": [
            "[1 9 8 3]\n"
          ]
        }
      ]
    },
    {
      "cell_type": "code",
      "metadata": {
        "colab": {
          "base_uri": "https://localhost:8080/"
        },
        "id": "TnvnzGDW5a1H",
        "outputId": "ee130d0c-d92d-41c3-8d91-8776ff9b408f"
      },
      "source": [
        "a = np.array([1,2,3])\n",
        "print(a.shape)\n",
        "print(a.dtype)"
      ],
      "execution_count": null,
      "outputs": [
        {
          "output_type": "stream",
          "name": "stdout",
          "text": [
            "(3,)\n",
            "int64\n"
          ]
        }
      ]
    },
    {
      "cell_type": "code",
      "metadata": {
        "colab": {
          "base_uri": "https://localhost:8080/"
        },
        "id": "9Mo16j8i5ygI",
        "outputId": "f60d12ec-8dac-4ef8-e79a-8b5dc5794f49"
      },
      "source": [
        "b = np.array([1.1,2,3.2])\n",
        "print(b.dtype)"
      ],
      "execution_count": null,
      "outputs": [
        {
          "output_type": "stream",
          "name": "stdout",
          "text": [
            "float64\n"
          ]
        }
      ]
    },
    {
      "cell_type": "code",
      "metadata": {
        "colab": {
          "base_uri": "https://localhost:8080/"
        },
        "id": "bJluhpBP6Afm",
        "outputId": "21398eb4-c0d2-45b3-eed0-f94c71d134a8"
      },
      "source": [
        "c = np.array([(1,2,3),(4,5,6)])\n",
        "print(c)"
      ],
      "execution_count": null,
      "outputs": [
        {
          "output_type": "stream",
          "name": "stdout",
          "text": [
            "[[1 2 3]\n",
            " [4 5 6]]\n"
          ]
        }
      ]
    },
    {
      "cell_type": "code",
      "metadata": {
        "colab": {
          "base_uri": "https://localhost:8080/"
        },
        "id": "N6-V_jdaPMGd",
        "outputId": "db826e57-f549-443f-e0a6-2f62bd576e43"
      },
      "source": [
        "d = np.array([\n",
        "              [[1,2,3],[4,5,6]],[[7,8,9],[10,11,12]]\n",
        "])\n",
        "print(d.shape)\n",
        "print(d)"
      ],
      "execution_count": 3,
      "outputs": [
        {
          "output_type": "stream",
          "name": "stdout",
          "text": [
            "(2, 2, 3)\n",
            "[[[ 1  2  3]\n",
            "  [ 4  5  6]]\n",
            "\n",
            " [[ 7  8  9]\n",
            "  [10 11 12]]]\n"
          ]
        }
      ]
    },
    {
      "cell_type": "code",
      "metadata": {
        "colab": {
          "base_uri": "https://localhost:8080/"
        },
        "id": "cZoF-CPvPjx_",
        "outputId": "8ef587a6-a7f0-4d73-9296-f1462fbfb89b"
      },
      "source": [
        "x=np.zeros((2,2), dtype=np.int16)\n",
        "print(x)"
      ],
      "execution_count": 4,
      "outputs": [
        {
          "output_type": "stream",
          "name": "stdout",
          "text": [
            "[[0 0]\n",
            " [0 0]]\n"
          ]
        }
      ]
    },
    {
      "cell_type": "code",
      "metadata": {
        "colab": {
          "base_uri": "https://localhost:8080/"
        },
        "id": "4X9BCRYMQWRY",
        "outputId": "b639d473-6c0c-4c00-c53a-67caa444a10b"
      },
      "source": [
        "y=np.ones((1,2,3), dtype=np.int16)\n",
        "print(y.shape)\n",
        "print(y)"
      ],
      "execution_count": 6,
      "outputs": [
        {
          "output_type": "stream",
          "name": "stdout",
          "text": [
            "(1, 2, 3)\n",
            "[[[1 1 1]\n",
            "  [1 1 1]]]\n"
          ]
        }
      ]
    },
    {
      "cell_type": "code",
      "metadata": {
        "colab": {
          "base_uri": "https://localhost:8080/"
        },
        "id": "z7SveM9WQvl_",
        "outputId": "699eea68-14f3-457a-e592-23669b7c3ff5"
      },
      "source": [
        "e = np.array([(1,2,3), (4,5,6)])\n",
        "print(e)\n",
        "print(e.shape)\n",
        "e.reshape(3,2)"
      ],
      "execution_count": 7,
      "outputs": [
        {
          "output_type": "stream",
          "name": "stdout",
          "text": [
            "[[1 2 3]\n",
            " [4 5 6]]\n",
            "(2, 3)\n"
          ]
        },
        {
          "output_type": "execute_result",
          "data": {
            "text/plain": [
              "array([[1, 2],\n",
              "       [3, 4],\n",
              "       [5, 6]])"
            ]
          },
          "metadata": {},
          "execution_count": 7
        }
      ]
    },
    {
      "cell_type": "code",
      "metadata": {
        "colab": {
          "base_uri": "https://localhost:8080/"
        },
        "id": "Dc5Hg5kiRjK5",
        "outputId": "738021a7-675b-477a-f75f-34fb799994ae"
      },
      "source": [
        "e.flatten()"
      ],
      "execution_count": 8,
      "outputs": [
        {
          "output_type": "execute_result",
          "data": {
            "text/plain": [
              "array([1, 2, 3, 4, 5, 6])"
            ]
          },
          "metadata": {},
          "execution_count": 8
        }
      ]
    },
    {
      "cell_type": "code",
      "metadata": {
        "colab": {
          "base_uri": "https://localhost:8080/"
        },
        "id": "lGEIC8J4Rorw",
        "outputId": "cf2ec346-0cbf-47d5-9031-1e0b2afaef54"
      },
      "source": [
        "f=np.array([1,2,3])\n",
        "g=np.array([4,5,6])\n",
        "\n",
        "print('Horizontal Append: ', np.hstack((f,g)))"
      ],
      "execution_count": 9,
      "outputs": [
        {
          "output_type": "stream",
          "name": "stdout",
          "text": [
            "Horizontal Append:  [1 2 3 4 5 6]\n"
          ]
        }
      ]
    },
    {
      "cell_type": "code",
      "metadata": {
        "colab": {
          "base_uri": "https://localhost:8080/"
        },
        "id": "oK5JFljvSB1B",
        "outputId": "9ea05664-33a3-43ee-bf05-c0ce2fb47f3b"
      },
      "source": [
        "print('Verical Append: ', np.vstack((f,g)))"
      ],
      "execution_count": 10,
      "outputs": [
        {
          "output_type": "stream",
          "name": "stdout",
          "text": [
            "Verical Append:  [[1 2 3]\n",
            " [4 5 6]]\n"
          ]
        }
      ]
    },
    {
      "cell_type": "code",
      "metadata": {
        "colab": {
          "base_uri": "https://localhost:8080/"
        },
        "id": "EFAoNdCxSYjx",
        "outputId": "31058141-cbe2-403d-a224-fc0f0260a6fb"
      },
      "source": [
        "normal_array = np.random.normal(5, 0.5, 10)\n",
        "print(normal_array)"
      ],
      "execution_count": 11,
      "outputs": [
        {
          "output_type": "stream",
          "name": "stdout",
          "text": [
            "[4.83938885 5.32360388 4.4937921  5.08219292 5.24897112 5.70815409\n",
            " 5.14759576 5.67154378 5.179356   3.83826043]\n"
          ]
        }
      ]
    },
    {
      "cell_type": "code",
      "metadata": {
        "colab": {
          "base_uri": "https://localhost:8080/"
        },
        "id": "T1IUW3DTS1un",
        "outputId": "2044292b-4620-4192-fa68-7c2adcadb128"
      },
      "source": [
        "A = np.matrix(np.ones((4,4)))\n",
        "print(A)"
      ],
      "execution_count": 12,
      "outputs": [
        {
          "output_type": "stream",
          "name": "stdout",
          "text": [
            "[[1. 1. 1. 1.]\n",
            " [1. 1. 1. 1.]\n",
            " [1. 1. 1. 1.]\n",
            " [1. 1. 1. 1.]]\n"
          ]
        }
      ]
    },
    {
      "cell_type": "code",
      "metadata": {
        "colab": {
          "base_uri": "https://localhost:8080/"
        },
        "id": "TffykSKWTDAq",
        "outputId": "a5088904-55a1-46ac-fd8c-e38c64f48e01"
      },
      "source": [
        "np.asarray(A)[2]=2\n",
        "print(A)"
      ],
      "execution_count": 13,
      "outputs": [
        {
          "output_type": "stream",
          "name": "stdout",
          "text": [
            "[[1. 1. 1. 1.]\n",
            " [1. 1. 1. 1.]\n",
            " [2. 2. 2. 2.]\n",
            " [1. 1. 1. 1.]]\n"
          ]
        }
      ]
    },
    {
      "cell_type": "code",
      "metadata": {
        "colab": {
          "base_uri": "https://localhost:8080/"
        },
        "id": "iv__C7OETM-B",
        "outputId": "2dc14fa0-28dd-4941-845b-feae6a0bcc4d"
      },
      "source": [
        "np.arange(1,11)\n"
      ],
      "execution_count": 15,
      "outputs": [
        {
          "output_type": "execute_result",
          "data": {
            "text/plain": [
              "array([ 1,  2,  3,  4,  5,  6,  7,  8,  9, 10])"
            ]
          },
          "metadata": {},
          "execution_count": 15
        }
      ]
    },
    {
      "cell_type": "code",
      "metadata": {
        "colab": {
          "base_uri": "https://localhost:8080/"
        },
        "id": "CKbaOzizTY4G",
        "outputId": "72f80639-3b2e-4e4a-91f2-08bc8e385e59"
      },
      "source": [
        "np.arange(1,14,4)"
      ],
      "execution_count": 17,
      "outputs": [
        {
          "output_type": "execute_result",
          "data": {
            "text/plain": [
              "array([ 1,  5,  9, 13])"
            ]
          },
          "metadata": {},
          "execution_count": 17
        }
      ]
    },
    {
      "cell_type": "code",
      "metadata": {
        "colab": {
          "base_uri": "https://localhost:8080/"
        },
        "id": "l0-AJ5mSTggO",
        "outputId": "71380ee0-740e-450d-f38c-555a75ef5971"
      },
      "source": [
        "np.linspace(1.0, 10.0, num=20)"
      ],
      "execution_count": 21,
      "outputs": [
        {
          "output_type": "execute_result",
          "data": {
            "text/plain": [
              "array([ 1.        ,  1.47368421,  1.94736842,  2.42105263,  2.89473684,\n",
              "        3.36842105,  3.84210526,  4.31578947,  4.78947368,  5.26315789,\n",
              "        5.73684211,  6.21052632,  6.68421053,  7.15789474,  7.63157895,\n",
              "        8.10526316,  8.57894737,  9.05263158,  9.52631579, 10.        ])"
            ]
          },
          "metadata": {},
          "execution_count": 21
        }
      ]
    },
    {
      "cell_type": "code",
      "metadata": {
        "colab": {
          "base_uri": "https://localhost:8080/"
        },
        "id": "ZREgX2JhT1FC",
        "outputId": "a1e4deeb-ef8c-42e8-9e95-84816448452a"
      },
      "source": [
        "np.logspace(3.0, 4.0, num=4)"
      ],
      "execution_count": 22,
      "outputs": [
        {
          "output_type": "execute_result",
          "data": {
            "text/plain": [
              "array([ 1000.        ,  2154.43469003,  4641.58883361, 10000.        ])"
            ]
          },
          "metadata": {},
          "execution_count": 22
        }
      ]
    },
    {
      "cell_type": "code",
      "metadata": {
        "colab": {
          "base_uri": "https://localhost:8080/"
        },
        "id": "EVVxJFHuUfV7",
        "outputId": "7eecc6dc-56de-4573-f657-4e1371ef6920"
      },
      "source": [
        "x=np.array([1,2,3], dtype=np.complex128)\n",
        "x.itemsize"
      ],
      "execution_count": 23,
      "outputs": [
        {
          "output_type": "execute_result",
          "data": {
            "text/plain": [
              "16"
            ]
          },
          "metadata": {},
          "execution_count": 23
        }
      ]
    },
    {
      "cell_type": "code",
      "metadata": {
        "colab": {
          "base_uri": "https://localhost:8080/"
        },
        "id": "9kYtg0ybVGJm",
        "outputId": "854a74e9-16d7-4213-fe9e-dfd5407ae9f5"
      },
      "source": [
        "e=np.array([(4,5,6),(7,8,9)])\n",
        "print(e)"
      ],
      "execution_count": 24,
      "outputs": [
        {
          "output_type": "stream",
          "name": "stdout",
          "text": [
            "[[4 5 6]\n",
            " [7 8 9]]\n"
          ]
        }
      ]
    },
    {
      "cell_type": "code",
      "metadata": {
        "colab": {
          "base_uri": "https://localhost:8080/"
        },
        "id": "i-jPMlY3VZWi",
        "outputId": "904a62be-9716-4416-ed24-2ff222203171"
      },
      "source": [
        "print('First row: ', e[0])"
      ],
      "execution_count": 25,
      "outputs": [
        {
          "output_type": "stream",
          "name": "stdout",
          "text": [
            "First row:  [4 5 6]\n"
          ]
        }
      ]
    },
    {
      "cell_type": "code",
      "metadata": {
        "colab": {
          "base_uri": "https://localhost:8080/"
        },
        "id": "D8Ot8CWlViB_",
        "outputId": "607e32d1-6112-4724-cfed-ec5daca9b605"
      },
      "source": [
        "print(e[:2,1])"
      ],
      "execution_count": 26,
      "outputs": [
        {
          "output_type": "stream",
          "name": "stdout",
          "text": [
            "[5 8]\n"
          ]
        }
      ]
    },
    {
      "cell_type": "code",
      "metadata": {
        "id": "BW2ZmdcKV80w"
      },
      "source": [
        "nomral_array = np.random.normal(5, 0.5, 10)\n"
      ],
      "execution_count": 27,
      "outputs": []
    },
    {
      "cell_type": "code",
      "metadata": {
        "colab": {
          "base_uri": "https://localhost:8080/"
        },
        "id": "Xf3Nx4QjWFPd",
        "outputId": "caa9034e-292e-4f51-e177-5084b94aff7f"
      },
      "source": [
        "print(np.min(normal_array))\n",
        "print(np.max(normal_array))\n",
        "print(np.mean(nomral_array))\n",
        "print(np.median(normal_array))\n",
        "print(np.std(normal_array))"
      ],
      "execution_count": 28,
      "outputs": [
        {
          "output_type": "stream",
          "name": "stdout",
          "text": [
            "3.8382604325505616\n",
            "5.708154093092072\n",
            "5.09115183122721\n",
            "5.163475876986222\n",
            "0.5275562002986901\n"
          ]
        }
      ]
    },
    {
      "cell_type": "code",
      "metadata": {
        "colab": {
          "base_uri": "https://localhost:8080/"
        },
        "id": "C7nSVfLyWi-I",
        "outputId": "ac955b09-a70a-44d5-b2be-66a2fff9ca79"
      },
      "source": [
        "f = np.array([1,2])\n",
        "g = np.array([4,5])\n",
        "np.dot(f,g)"
      ],
      "execution_count": 29,
      "outputs": [
        {
          "output_type": "execute_result",
          "data": {
            "text/plain": [
              "14"
            ]
          },
          "metadata": {},
          "execution_count": 29
        }
      ]
    },
    {
      "cell_type": "code",
      "metadata": {
        "colab": {
          "base_uri": "https://localhost:8080/"
        },
        "id": "nAR8AhGrW4Q2",
        "outputId": "a4ad13b9-0cf4-4c30-b7d1-225ef057f2a9"
      },
      "source": [
        "h = [[1,2],[3,4]]\n",
        "i = [[5,6],[7,8]]\n",
        "np.matmul(h, i)"
      ],
      "execution_count": 30,
      "outputs": [
        {
          "output_type": "execute_result",
          "data": {
            "text/plain": [
              "array([[19, 22],\n",
              "       [43, 50]])"
            ]
          },
          "metadata": {},
          "execution_count": 30
        }
      ]
    },
    {
      "cell_type": "code",
      "metadata": {
        "colab": {
          "base_uri": "https://localhost:8080/"
        },
        "id": "ptFlyuqKXLWD",
        "outputId": "63c33784-73a1-44ce-98c4-6690bcc1bdc8"
      },
      "source": [
        "A = np.array([[6,1,1],[4,-2,5],[2,8,7]])\n",
        "print(np.linalg.inv(A))"
      ],
      "execution_count": 31,
      "outputs": [
        {
          "output_type": "stream",
          "name": "stdout",
          "text": [
            "[[ 0.17647059 -0.00326797 -0.02287582]\n",
            " [ 0.05882353 -0.13071895  0.08496732]\n",
            " [-0.11764706  0.1503268   0.05228758]]\n"
          ]
        }
      ]
    },
    {
      "cell_type": "code",
      "metadata": {
        "colab": {
          "base_uri": "https://localhost:8080/"
        },
        "id": "zp3-4ihxXnal",
        "outputId": "2227b48a-7671-4659-daa2-d57eeeeb79de"
      },
      "source": [
        "n_array = np.array([[50,29],[30,44]])\n",
        "\n",
        "print(\"Numpy Matrix is: \")\n",
        "print(n_array)\n",
        "\n",
        "det = np.linalg.det(n_array)\n",
        "\n",
        "print(\"\\nDeterminant of given 2x2 matrix:\")\n",
        "print(int(det))"
      ],
      "execution_count": 34,
      "outputs": [
        {
          "output_type": "stream",
          "name": "stdout",
          "text": [
            "Numpy Matrix is: \n",
            "[[50 29]\n",
            " [30 44]]\n",
            "\n",
            "Determinant of given 2x2 matrix:\n",
            "1330\n"
          ]
        }
      ]
    },
    {
      "cell_type": "code",
      "metadata": {
        "colab": {
          "base_uri": "https://localhost:8080/"
        },
        "id": "9XncD_ZMY3Xr",
        "outputId": "85922335-4211-4b19-d684-f46e324d8f36"
      },
      "source": [
        "mx=np.array([[1,1,1],[0,1,2],[1,5,3]])\n",
        "np.linalg.matrix_rank(mx)"
      ],
      "execution_count": 36,
      "outputs": [
        {
          "output_type": "execute_result",
          "data": {
            "text/plain": [
              "3"
            ]
          },
          "metadata": {},
          "execution_count": 36
        }
      ]
    },
    {
      "cell_type": "code",
      "metadata": {
        "colab": {
          "base_uri": "https://localhost:8080/"
        },
        "id": "OGx4OGbpaCgh",
        "outputId": "ca1affd4-247c-4d04-b00b-5895c0eda148"
      },
      "source": [
        "eigenvalues, eigenvectors = np.linalg.eig(mx)\n",
        "print(eigenvalues, eigenvectors)"
      ],
      "execution_count": 37,
      "outputs": [
        {
          "output_type": "stream",
          "name": "stdout",
          "text": [
            "[ 5.52728869  0.81107958 -1.33836827] [[-0.27967764 -0.97874079 -0.0469752 ]\n",
            " [-0.3879655   0.20419215 -0.64926493]\n",
            " [-0.87821591 -0.01928803  0.75911026]]\n"
          ]
        }
      ]
    },
    {
      "cell_type": "code",
      "metadata": {
        "colab": {
          "base_uri": "https://localhost:8080/"
        },
        "id": "2ynbiLBMaiEC",
        "outputId": "a1b79ca4-15f3-449d-f018-f13073c60f9e"
      },
      "source": [
        "gfg = np.matrix('[6,2; 3, 4]')\n",
        "diag = gfg.diagonal()\n",
        "print(diag)"
      ],
      "execution_count": 39,
      "outputs": [
        {
          "output_type": "stream",
          "name": "stdout",
          "text": [
            "[[6 4]]\n"
          ]
        }
      ]
    },
    {
      "cell_type": "code",
      "metadata": {
        "colab": {
          "base_uri": "https://localhost:8080/"
        },
        "id": "pwDaX8HXa-zA",
        "outputId": "cd7cd209-8746-40de-8fef-b303403758f8"
      },
      "source": [
        "gfg = np.matrix('[4,1;12,3]')\n",
        "trans = gfg.transpose()\n",
        "print(trans)"
      ],
      "execution_count": 40,
      "outputs": [
        {
          "output_type": "stream",
          "name": "stdout",
          "text": [
            "[[ 4 12]\n",
            " [ 1  3]]\n"
          ]
        }
      ]
    },
    {
      "cell_type": "code",
      "metadata": {
        "colab": {
          "base_uri": "https://localhost:8080/"
        },
        "id": "qjONofpHbQS9",
        "outputId": "f4c512ad-9acb-4ae2-a26b-b8c436d802f7"
      },
      "source": [
        "gfg = np.matrix('[5,4;19,7]')\n",
        "tracem = gfg.trace()\n",
        "print(tracem)"
      ],
      "execution_count": 42,
      "outputs": [
        {
          "output_type": "stream",
          "name": "stdout",
          "text": [
            "[[12]]\n"
          ]
        }
      ]
    }
  ]
}